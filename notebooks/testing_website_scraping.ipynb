{
 "cells": [
  {
   "cell_type": "code",
   "execution_count": 25,
   "id": "e93e1b9a-b409-41df-b91b-5fd18a6b9336",
   "metadata": {},
   "outputs": [],
   "source": [
    "from selenium import webdriver\n",
    "import json\n",
    "import numpy as np\n",
    "import pandas as pd\n",
    "from bs4 import BeautifulSoup\n",
    "from pathlib import Path"
   ]
  },
  {
   "cell_type": "code",
   "execution_count": 21,
   "id": "0ac580c3-4292-4bfe-bb27-4c115f0b1c4b",
   "metadata": {},
   "outputs": [],
   "source": [
    "with open(Path.cwd().parent/'sources.json') as f:\n",
    "    sources = json.load(f)"
   ]
  },
  {
   "cell_type": "code",
   "execution_count": 22,
   "id": "a685a082-b287-495e-91d3-278d1870fcf7",
   "metadata": {},
   "outputs": [
    {
     "data": {
      "text/plain": [
       "dict_keys(['NYSE', 'NYSE Withdrawn', 'Nasdaq', 'Nasdaq Priced', 'Nasdaq Withdrawn', 'JPX', 'Shanghai', 'Euronext', 'AAStocks', 'LSE', 'CNInfo', 'Frankfurt', 'KRX', 'TWSE', 'BME', 'SGX', 'IDX', 'BM', 'BIT', 'IPOScoop', 'NasdaqNordic', 'East Money', 'NSE', 'AlphaVantage', 'SpotlightAPI', 'ASX', 'TokyoIPO', 'TMX', 'IPOHub'])"
      ]
     },
     "execution_count": 22,
     "metadata": {},
     "output_type": "execute_result"
    }
   ],
   "source": [
    "sources.keys()"
   ]
  },
  {
   "cell_type": "code",
   "execution_count": 7,
   "id": "79e33640-f751-45eb-b532-7fa1e626aa93",
   "metadata": {},
   "outputs": [],
   "source": [
    "driver = webdriver.Firefox()"
   ]
  },
  {
   "cell_type": "code",
   "execution_count": 8,
   "id": "1f875f7c-7121-41e2-a84b-09f2b59f9b95",
   "metadata": {},
   "outputs": [],
   "source": [
    "def load_url(driver, url):\n",
    "    if url != driver.current_url:\n",
    "        driver.get(url)"
   ]
  },
  {
   "cell_type": "code",
   "execution_count": 9,
   "id": "fb4cd071-6068-4abd-9258-992da90e23a8",
   "metadata": {},
   "outputs": [],
   "source": [
    "def return_soup(driver):\n",
    "    return BeautifulSoup(driver.page_source, 'html.parser')"
   ]
  },
  {
   "cell_type": "code",
   "execution_count": 17,
   "id": "ff564809-7a5d-4e8b-91e8-3e5ab4f59fd8",
   "metadata": {},
   "outputs": [],
   "source": [
    "def parse_table(soup, get_links: bool = False, **kwargs):\n",
    "    \"\"\"\n",
    "    Parses the element identified by the keyword arguments and returns a pandas dataframe\n",
    "    :param get_links: bool, if true the function will add links to data returned\n",
    "    :return: pandas dataframe\n",
    "    \"\"\"\n",
    "    url = kwargs.get('url')\n",
    "    table_elem = kwargs.get('table_elem')\n",
    "    table_num = kwargs.get('table_num', 0)\n",
    "    table_attrs = kwargs.get('table_attrs')\n",
    "    table_title = kwargs.get('table_title')\n",
    "    row_elem = kwargs.get('row_elem')\n",
    "    cell_elem = kwargs.get('cell_elem')\n",
    "    header_elem = kwargs.get('header_elem')\n",
    "    link_elem = kwargs.get('link_elem')\n",
    "    link_key = kwargs.get('link_key')\n",
    "    cols = kwargs.get('columns')\n",
    "    column_names_as_row = kwargs.get('column_names_as_row')\n",
    "\n",
    "    if table_title is not None:\n",
    "        if soup.find(text=table_title) is None:\n",
    "            return None\n",
    "        else:\n",
    "            table = soup.find(text=table_title).parent.parent.find(table_elem)\n",
    "    elif table_attrs is None:\n",
    "        table = soup.find_all(table_elem)[table_num]\n",
    "    else:\n",
    "        table = soup.find(table_elem, attrs=table_attrs)\n",
    "    assert table is not None, f'Unable to find {table_elem} with these attributes {table_attrs} on {url}'\n",
    "    table_data = []\n",
    "    for row in table.find_all(row_elem):\n",
    "        cells = [c.text.strip() for c in row.find_all(cell_elem)]\n",
    "        if get_links and link_elem is not None and link_key is not None:\n",
    "            for link in row.find_all(link_elem):\n",
    "                cells.append(link[link_key])\n",
    "        if len(cells) > 1 and (cells[1] != cols[1]):\n",
    "            table_data.append(cells)\n",
    "    df = pd.DataFrame(table_data)\n",
    "    if len(df) > 0:\n",
    "        # adding columns for dataframe and making sure the column list is the correct length\n",
    "        cols_in_row = len(df.loc[0])\n",
    "        if len(cols) < cols_in_row:\n",
    "            cols.extend([f\"Unnamed_column_{c}\" for c in range(cols_in_row - len(cols))])\n",
    "        elif len(cols) > cols_in_row:\n",
    "            cols = cols[0:cols_in_row]\n",
    "        df.columns = cols\n",
    "        df = df.replace(r'^\\s*$', np.nan, regex=True)\n",
    "        df.dropna(how='all', inplace=True)\n",
    "        # Some sources give the column headers as rows in the table\n",
    "        if column_names_as_row:\n",
    "            df = df.drop(0).reset_index(drop=True)\n",
    "        return df"
   ]
  },
  {
   "cell_type": "code",
   "execution_count": 28,
   "id": "5216d3b2-2415-48e7-9ba3-575efe89937f",
   "metadata": {},
   "outputs": [],
   "source": [
    "sources_to_test = ['LSE', 'Nasdaq', 'Nasdaq Priced', 'NYSE']"
   ]
  },
  {
   "cell_type": "code",
   "execution_count": 29,
   "id": "fcbfd47d-ccc4-4325-ba41-f24640d83a49",
   "metadata": {},
   "outputs": [],
   "source": [
    "test_source = 'Nasdaq'"
   ]
  },
  {
   "cell_type": "code",
   "execution_count": 35,
   "id": "82c11ac2-5a93-4fee-8ded-1016011351c4",
   "metadata": {},
   "outputs": [
    {
     "data": {
      "text/plain": [
       "{'source_type': 'website',\n",
       " 'exchange': 'NASDAQ',\n",
       " 'rank': 2,\n",
       " 'location': 'New York',\n",
       " 'url': 'https://www.nasdaq.com/market-activity/ipos?tab=upcoming',\n",
       " 'table_num': 2,\n",
       " 'table_elem': 'tbody',\n",
       " 'table_title': 'Upcoming',\n",
       " 'row_elem': 'tr',\n",
       " 'cell_elem': ['th', 'td'],\n",
       " 'header_elem': 'th',\n",
       " 'header_attrs': {'class': ['market-calendar-table__columnheader']},\n",
       " 'columns': ['ticker',\n",
       "  'company_name',\n",
       "  'exchange',\n",
       "  'price',\n",
       "  'shares_offered',\n",
       "  'ipo_date',\n",
       "  'deal_size'],\n",
       " 'column_names_as_row': False,\n",
       " 'file': 'Nasdaq',\n",
       " 'db_table_raw': 'source_nasdaq_raw',\n",
       " 'db_table': 'source_nasdaq'}"
      ]
     },
     "execution_count": 35,
     "metadata": {},
     "output_type": "execute_result"
    }
   ],
   "source": [
    "sources[test_source]"
   ]
  },
  {
   "cell_type": "code",
   "execution_count": 30,
   "id": "d17998bd-c37c-4e5a-8746-d2c18951f319",
   "metadata": {},
   "outputs": [],
   "source": [
    "load_url(driver, sources[test_source]['url'])"
   ]
  },
  {
   "cell_type": "code",
   "execution_count": 31,
   "id": "356180ea-1e91-41ea-b7de-bf7bdb1c63c0",
   "metadata": {},
   "outputs": [],
   "source": [
    "soup = return_soup(driver)"
   ]
  },
  {
   "cell_type": "code",
   "execution_count": 32,
   "id": "09e2365f-a231-460b-b873-5583dabd41ae",
   "metadata": {},
   "outputs": [
    {
     "name": "stdout",
     "output_type": "stream",
     "text": [
      "0 {}\n",
      "1 {}\n",
      "2 {'class': ['market-calendar-table__body']}\n",
      "3 {'class': ['market-calendar-table__body']}\n",
      "4 {'class': ['market-calendar-table__body']}\n",
      "5 {'class': ['market-calendar-table__body']}\n"
     ]
    }
   ],
   "source": [
    "for i, tbl in enumerate(soup.find_all(sources[test_source]['table_elem'])):\n",
    "    print(i, tbl.attrs)"
   ]
  },
  {
   "cell_type": "code",
   "execution_count": 33,
   "id": "0f13f4d8-f85f-412e-9d56-b4ebf8469e4e",
   "metadata": {},
   "outputs": [],
   "source": [
    "df = parse_table(soup, **sources[test_source])"
   ]
  },
  {
   "cell_type": "code",
   "execution_count": 34,
   "id": "14527730-49b2-47d0-979c-145ca123a4c4",
   "metadata": {},
   "outputs": [
    {
     "ename": "AttributeError",
     "evalue": "'NoneType' object has no attribute 'head'",
     "output_type": "error",
     "traceback": [
      "\u001b[1;31m---------------------------------------------------------------------------\u001b[0m",
      "\u001b[1;31mAttributeError\u001b[0m                            Traceback (most recent call last)",
      "\u001b[1;32m<ipython-input-34-c42a15b2c7cf>\u001b[0m in \u001b[0;36m<module>\u001b[1;34m\u001b[0m\n\u001b[1;32m----> 1\u001b[1;33m \u001b[0mdf\u001b[0m\u001b[1;33m.\u001b[0m\u001b[0mhead\u001b[0m\u001b[1;33m(\u001b[0m\u001b[1;33m)\u001b[0m\u001b[1;33m\u001b[0m\u001b[1;33m\u001b[0m\u001b[0m\n\u001b[0m",
      "\u001b[1;31mAttributeError\u001b[0m: 'NoneType' object has no attribute 'head'"
     ]
    }
   ],
   "source": [
    "df.head()"
   ]
  },
  {
   "cell_type": "code",
   "execution_count": null,
   "id": "aaf26882-3b25-44af-a286-0395954a2df5",
   "metadata": {},
   "outputs": [],
   "source": []
  }
 ],
 "metadata": {
  "kernelspec": {
   "display_name": "Python 3",
   "language": "python",
   "name": "python3"
  },
  "language_info": {
   "codemirror_mode": {
    "name": "ipython",
    "version": 3
   },
   "file_extension": ".py",
   "mimetype": "text/x-python",
   "name": "python",
   "nbconvert_exporter": "python",
   "pygments_lexer": "ipython3",
   "version": "3.9.10"
  }
 },
 "nbformat": 4,
 "nbformat_minor": 5
}
